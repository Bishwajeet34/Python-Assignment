{
 "cells": [
  {
   "cell_type": "markdown",
   "metadata": {
    "id": "ryQOn6wkrQ0j"
   },
   "source": [
    "# Q.1 Explain the key features of Python that make it a popular choice for programming ?"
   ]
  },
  {
   "cell_type": "markdown",
   "metadata": {
    "id": "ZKY_vy1vrevu"
   },
   "source": [
    "The Key Features of Python are :-\n",
    "\n",
    "a. Rich Libraries\n",
    "Pandas, NumPy, scikit-learn, PyTorch – ideal for data science and AI.\n",
    "\n",
    "b. AI & ML Ready\n",
    "Used in healthcare, finance, trading, NLP, and other smart applications.\n",
    "\n",
    "c. Easy Syntax\n",
    "Beginner-friendly, clean, and readable – great for fast development.\n",
    "\n",
    "d. Cross-Platform\n",
    "Works smoothly on Windows, macOS, and Linux.\n",
    "\n",
    "e. Strong Community\n",
    "Large, active developer base with continuous updates and support.\n",
    "\n",
    "f. Industry Adoption\n",
    "Preferred by Microsoft, Meta, Twitter, and more for AI/NLP.\n",
    "\n",
    "g. Flexible Paradigms\n",
    "Supports both object-oriented and functional programming.\n"
   ]
  },
  {
   "cell_type": "code",
   "execution_count": 1,
   "metadata": {
    "colab": {
     "base_uri": "https://localhost:8080/"
    },
    "id": "pVatJRhsr1Mf",
    "outputId": "fcc9145e-3088-49fd-d8f8-500c52a8ad71"
   },
   "outputs": [
    {
     "name": "stdout",
     "output_type": "stream",
     "text": [
      "Hello PW SKILL!\n"
     ]
    }
   ],
   "source": [
    "#First program\n",
    "print(\"Hello PW SKILL!\")"
   ]
  },
  {
   "cell_type": "markdown",
   "metadata": {
    "id": "ei7pzTGSsAEG"
   },
   "source": [
    "# Q.2 Describe the role of predefined keywords in Python and provide examples of how they are used in a program ?"
   ]
  },
  {
   "cell_type": "markdown",
   "metadata": {
    "id": "6CBHi76XsJVC"
   },
   "source": [
    " Predefined Keywords are those words which has a special meaning and has some specific purpose in Python Programming.\n",
    "There are total 35 keywords in Python.\n",
    "Some of them are :-\n",
    "1. print - It is a keyword which is used to display a message on the output screen.\n"
   ]
  },
  {
   "cell_type": "code",
   "execution_count": 11,
   "metadata": {
    "colab": {
     "base_uri": "https://localhost:8080/"
    },
    "id": "NkV6TyHMsqGv",
    "outputId": "0845aa6f-582b-413a-f20c-9134137c22ea"
   },
   "outputs": [
    {
     "name": "stdout",
     "output_type": "stream",
     "text": [
      "Hello World\n"
     ]
    }
   ],
   "source": [
    "# Examples\n",
    "#  1. print keyword\n",
    "print(\"Hello World\")"
   ]
  },
  {
   "cell_type": "markdown",
   "metadata": {
    "id": "W7WLVZxI6FeD"
   },
   "source": [
    "\n",
    "2. and - It is a logical operator which is used for logical operations.\n"
   ]
  },
  {
   "cell_type": "code",
   "execution_count": 13,
   "metadata": {
    "colab": {
     "base_uri": "https://localhost:8080/"
    },
    "id": "yP-l-PDfuige",
    "outputId": "c01ad55c-468a-4648-8ae6-a72da9740591"
   },
   "outputs": [
    {
     "name": "stdout",
     "output_type": "stream",
     "text": [
      "Enter any number2\n",
      "Even\n"
     ]
    }
   ],
   "source": [
    "# 2. and keyword\n",
    "N = int(input(\"Enter any number\"))\n",
    "if N % 2 == 0 and N > 0:\n",
    "    print(\"Even\")"
   ]
  },
  {
   "cell_type": "markdown",
   "metadata": {
    "id": "2OUyMGaJ6JS7"
   },
   "source": [
    "\n",
    "3. or - It is also a logical operator used for logical operation.\n"
   ]
  },
  {
   "cell_type": "code",
   "execution_count": 14,
   "metadata": {
    "colab": {
     "base_uri": "https://localhost:8080/"
    },
    "id": "GN5biqrzuis2",
    "outputId": "87864da9-1885-4bea-e47b-4f342e7af635"
   },
   "outputs": [
    {
     "name": "stdout",
     "output_type": "stream",
     "text": [
      "Enter any number4\n",
      "Number lies between 1 and 5\n"
     ]
    }
   ],
   "source": [
    "# 3. or keyword\n",
    "N = int(input(\"Enter any number\"))\n",
    "if N > 0 or N <= 5:\n",
    "   print(\"Number lies between 1 and 5\")"
   ]
  },
  {
   "cell_type": "markdown",
   "metadata": {
    "id": "8mmYF2SG6MPa"
   },
   "source": [
    "\n",
    "4. continue - This keyword is used to skip any number.\n",
    "\n"
   ]
  },
  {
   "cell_type": "code",
   "execution_count": 15,
   "metadata": {
    "colab": {
     "base_uri": "https://localhost:8080/"
    },
    "id": "qTRtgfciui19",
    "outputId": "1d988c11-244e-4574-8792-14a00295001b"
   },
   "outputs": [
    {
     "name": "stdout",
     "output_type": "stream",
     "text": [
      "2\n",
      "4\n",
      "5\n",
      "6\n"
     ]
    }
   ],
   "source": [
    "# 4. continue keyword\n",
    "N = 5\n",
    "i = 1\n",
    "while i <= 5:\n",
    "  i = i + 1\n",
    "  if i == 3:\n",
    "    continue\n",
    "  print(i)"
   ]
  },
  {
   "cell_type": "markdown",
   "metadata": {
    "id": "Q1MFvpHA6OaF"
   },
   "source": [
    "5. break - This keyword is used to exit from the statement."
   ]
  },
  {
   "cell_type": "code",
   "execution_count": 16,
   "metadata": {
    "colab": {
     "base_uri": "https://localhost:8080/"
    },
    "id": "-fKG1U2nujBG",
    "outputId": "b3b280f2-cef7-4a2b-8c99-d769c2da9a15"
   },
   "outputs": [
    {
     "name": "stdout",
     "output_type": "stream",
     "text": [
      "1\n",
      "2\n"
     ]
    }
   ],
   "source": [
    "# 5. break keyword\n",
    "N = 5\n",
    "i = 1\n",
    "while i <= 5:\n",
    "  if i == 3:\n",
    "    break\n",
    "  print(i)\n",
    "  i = i + 1"
   ]
  },
  {
   "cell_type": "markdown",
   "metadata": {
    "id": "ofqKNNpPvF8E"
   },
   "source": [
    "There are more keywords in Python. Above are some of the examples from them.\n"
   ]
  },
  {
   "cell_type": "markdown",
   "metadata": {
    "id": "A5uUCmcQvIg7"
   },
   "source": [
    "# Q.3 Compare and contrast mutable and immutable objects in Python with examples ?\n"
   ]
  },
  {
   "cell_type": "markdown",
   "metadata": {
    "id": "9r-_5QiZvOn9"
   },
   "source": [
    " Mutable Objects :- Mutable objects are those objects whose value can be changed or modified after they are created.\n",
    "Example - List\n"
   ]
  },
  {
   "cell_type": "code",
   "execution_count": 17,
   "metadata": {
    "colab": {
     "base_uri": "https://localhost:8080/"
    },
    "id": "wPZMlnoUvTKc",
    "outputId": "219032c7-b1e6-44e4-fdef-6eab984d3ca9"
   },
   "outputs": [
    {
     "name": "stdout",
     "output_type": "stream",
     "text": [
      "[10, 2, 3, 4, 'pwskills', 'Shayan']\n"
     ]
    }
   ],
   "source": [
    "list_c = [1, 2, 3, 4, 5, \"Shayan\"]\n",
    "list_c[0] = 10\n",
    "list_c[4] = \"pwskills\"\n",
    "print(list_c)\n"
   ]
  },
  {
   "cell_type": "markdown",
   "metadata": {
    "id": "lT3zJq-9whyW"
   },
   "source": [
    "It means we can change the value in mutable objects.\n"
   ]
  },
  {
   "cell_type": "markdown",
   "metadata": {
    "id": "shJgQIB6wNLV"
   },
   "source": [
    "Immutable Objects :- Immutable Objects are those objects whose value cannot be changed or modified after creation.\n",
    "Example - String\n",
    "\n"
   ]
  },
  {
   "cell_type": "code",
   "execution_count": 18,
   "metadata": {
    "colab": {
     "base_uri": "https://localhost:8080/",
     "height": 158
    },
    "id": "fz2xrwJmwRgE",
    "outputId": "98cc9af3-dbab-4b1d-857d-7b63fc8dcc89"
   },
   "outputs": [
    {
     "ename": "TypeError",
     "evalue": "'str' object does not support item assignment",
     "output_type": "error",
     "traceback": [
      "\u001b[0;31m---------------------------------------------------------------------------\u001b[0m",
      "\u001b[0;31mTypeError\u001b[0m                                 Traceback (most recent call last)",
      "\u001b[0;32m<ipython-input-18-28e188b40041>\u001b[0m in \u001b[0;36m<cell line: 2>\u001b[0;34m()\u001b[0m\n\u001b[1;32m      1\u001b[0m \u001b[0ma\u001b[0m \u001b[0;34m=\u001b[0m \u001b[0;34m\"Shayan\"\u001b[0m\u001b[0;34m\u001b[0m\u001b[0;34m\u001b[0m\u001b[0m\n\u001b[0;32m----> 2\u001b[0;31m \u001b[0ma\u001b[0m\u001b[0;34m[\u001b[0m\u001b[0;36m0\u001b[0m\u001b[0;34m]\u001b[0m \u001b[0;34m=\u001b[0m \u001b[0;34m\"A\"\u001b[0m \u001b[0;31m# this will give an error\u001b[0m\u001b[0;34m\u001b[0m\u001b[0;34m\u001b[0m\u001b[0m\n\u001b[0m",
      "\u001b[0;31mTypeError\u001b[0m: 'str' object does not support item assignment"
     ]
    }
   ],
   "source": [
    "a = \"Shayan\"\n",
    "a[0] = \"A\" # this will give an error"
   ]
  },
  {
   "cell_type": "markdown",
   "metadata": {
    "id": "4aoRB5eQwm15"
   },
   "source": [
    "We can not change the value in immutable objects\n",
    "\n"
   ]
  },
  {
   "cell_type": "markdown",
   "metadata": {
    "id": "SOMq1C47wqQh"
   },
   "source": [
    "# Q.4 Discuss the different types of operators in Python and provide examples of how they are used ?\n"
   ]
  },
  {
   "cell_type": "markdown",
   "metadata": {
    "id": "n5ShghW0wyOJ"
   },
   "source": [
    "Operators :- Operators are used to perform operations on values or variable.\n",
    "\n",
    "Types of Operator :-\n",
    "\n",
    "1. Arithmetic Operator - It is used to perform arithmetic operations between operands. Arithmetic Operators are -  +, -, *, /, %, **\n",
    "\n"
   ]
  },
  {
   "cell_type": "code",
   "execution_count": 21,
   "metadata": {
    "colab": {
     "base_uri": "https://localhost:8080/"
    },
    "id": "0RXgYtNyxAfK",
    "outputId": "08063984-8239-4544-8ce0-3aedbe3e083c"
   },
   "outputs": [
    {
     "name": "stdout",
     "output_type": "stream",
     "text": [
      "8\n",
      "2\n",
      "15\n",
      "1.6666666666666667\n",
      "1\n",
      "2\n"
     ]
    }
   ],
   "source": [
    "#Example\n",
    "\n",
    "# 1. Arithmetic Operators\n",
    "a = 5\n",
    "b = 3\n",
    "print(a + b) # Addition\n",
    "print(a - b) # Subtraction\n",
    "print(a * b) # Multiplication\n",
    "print(a / b) # Division\n",
    "print(a // b) # Floor Division\n",
    "print(a % b) # Modulus\n",
    "print(a ** b) # Exponential"
   ]
  },
  {
   "cell_type": "markdown",
   "metadata": {
    "id": "caRiabYB1TgA"
   },
   "source": [
    "2. Comparison Operator - It is used to compare the values of operands. 3. Comparison Operators are ==, !=, <, >, <=, >=\n",
    "\n"
   ]
  },
  {
   "cell_type": "code",
   "execution_count": 22,
   "metadata": {
    "colab": {
     "base_uri": "https://localhost:8080/"
    },
    "id": "Z-1Ve2zlxk8j",
    "outputId": "3ab48310-b0ce-4dac-e8ae-8f8bbda870ba"
   },
   "outputs": [
    {
     "name": "stdout",
     "output_type": "stream",
     "text": [
      "False\n",
      "True\n",
      "False\n",
      "False\n",
      "True\n",
      "True\n"
     ]
    }
   ],
   "source": [
    "# 2. Comaparison Operators\n",
    "\n",
    "a = 2\n",
    "b = 3\n",
    "print(a == b) # Equal to\n",
    "print(a != b) # Not Equals\n",
    "print(a > b) # Greater than\n",
    "print(a >= b) # Greater than equal to\n",
    "print(a < b) # Less than\n",
    "print(a <= b) # Less than equal to"
   ]
  },
  {
   "cell_type": "markdown",
   "metadata": {
    "id": "nU8Glo2D1Xvy"
   },
   "source": [
    "3. Logical Operator - These are used to perform logical operations. It is used to connect two or more expressions and it gives result mostly in True or False. Logical Operator are - and, or, not\n",
    "\n",
    "\n"
   ]
  },
  {
   "cell_type": "code",
   "execution_count": 24,
   "metadata": {
    "colab": {
     "base_uri": "https://localhost:8080/"
    },
    "id": "t_aYjhL3xlbq",
    "outputId": "4ff3954f-3873-4b0f-d45a-f2a109e31537"
   },
   "outputs": [
    {
     "name": "stdout",
     "output_type": "stream",
     "text": [
      "True\n",
      "False\n",
      "False\n",
      "False\n",
      "True\n",
      "True\n",
      "True\n",
      "False\n",
      "False\n",
      "True\n"
     ]
    }
   ],
   "source": [
    "# 3. Logical Operators\n",
    "\n",
    "# Logical and\n",
    "print(True and True)\n",
    "print(True and False)\n",
    "print(False and True)\n",
    "print(False and False)\n",
    "\n",
    "# Logical or\n",
    "print(True or True)\n",
    "print(True or False)\n",
    "print(False or True)\n",
    "print(False or False)\n",
    "\n",
    "# Logical not\n",
    "print(not True)\n",
    "print(not False)"
   ]
  },
  {
   "cell_type": "markdown",
   "metadata": {
    "id": "8QQhY7Sy1ahx"
   },
   "source": [
    "4. Bitwise Operator - Bitwise operator is used to perform operation on binary numbers. Bitwise operators are - &, |, ~, ^, <<, >>\n",
    "\n"
   ]
  },
  {
   "cell_type": "code",
   "execution_count": null,
   "metadata": {
    "id": "rv1zeLbRzX8Q"
   },
   "outputs": [],
   "source": [
    "# 4. Bitwise Operators\n",
    "\n",
    "print(10 & 10) # Bitwise and\n",
    "\n",
    "print(3 | 5) # Bitwise or\n",
    "\n",
    "print(~6) # Bitwise not\n",
    "\n",
    "print(5 ^ 3) # Bitwise xor\n",
    "\n",
    "print(35 << 3) # Left Shift\n",
    "\n",
    "print(280 >> 3) # Rigth Shift\n",
    "\n"
   ]
  },
  {
   "cell_type": "markdown",
   "metadata": {
    "id": "89xlnz0g1eKy"
   },
   "source": [
    "5. Assignment Operator - These operators are used to assign value to operands. Assignment operators are - =, +=, -=, *=, /=, %=\n",
    "\n"
   ]
  },
  {
   "cell_type": "code",
   "execution_count": 25,
   "metadata": {
    "colab": {
     "base_uri": "https://localhost:8080/"
    },
    "id": "OQi3AiuRxllh",
    "outputId": "e45321d9-8f96-4190-a801-537c99eb3a01"
   },
   "outputs": [
    {
     "name": "stdout",
     "output_type": "stream",
     "text": [
      "20.0\n"
     ]
    }
   ],
   "source": [
    "# 5. Assignment Operators\n",
    "\n",
    "a = 5 # Assignment\n",
    "a += 5 # Addition Assignment\n",
    "a -= 2 # Subtraction Assignment\n",
    "a *= 5 # Multiplication Assignment\n",
    "a /= 2 # Division Assignment\n",
    "print(a)"
   ]
  },
  {
   "cell_type": "markdown",
   "metadata": {
    "id": "5IpaXgUo1gn7"
   },
   "source": [
    "6. Membership Operator - Membership Operators are used to check whether a character, word, number is present in a sequence or not. Membership operators are - in, not in\n"
   ]
  },
  {
   "cell_type": "code",
   "execution_count": 27,
   "metadata": {
    "colab": {
     "base_uri": "https://localhost:8080/"
    },
    "id": "1lzlijhAxlto",
    "outputId": "ac75d67b-d53a-48ac-f8a1-3ce18c0b9d79"
   },
   "outputs": [
    {
     "name": "stdout",
     "output_type": "stream",
     "text": [
      "True\n",
      "True\n"
     ]
    }
   ],
   "source": [
    "# 6. Membership Operators\n",
    "a = \"pwskills\"\n",
    "print(\"p\" in a)\n",
    "print(\"o\" not in a)"
   ]
  },
  {
   "cell_type": "markdown",
   "metadata": {
    "id": "qmD9vsfT1ryj"
   },
   "source": [
    "\n",
    "7. Identity Operator - These are used to compare the location of two objects. Identity Operators are - is, is not"
   ]
  },
  {
   "cell_type": "code",
   "execution_count": 28,
   "metadata": {
    "colab": {
     "base_uri": "https://localhost:8080/"
    },
    "id": "TfXraS4txl1p",
    "outputId": "32725856-e3cb-4e38-d5ce-6f82baef58c3"
   },
   "outputs": [
    {
     "name": "stdout",
     "output_type": "stream",
     "text": [
      "False\n",
      "True\n"
     ]
    }
   ],
   "source": [
    "# 7. Identity Operators\n",
    "\n",
    "a = 2\n",
    "b = 3\n",
    "print(a is b)\n",
    "\n",
    "c = 4\n",
    "d = c\n",
    "print(a is not b)"
   ]
  },
  {
   "cell_type": "markdown",
   "metadata": {
    "id": "yFysD9gN2gSc"
   },
   "source": [
    "# Q.5 Explain the concept of type casting in Python with examples ?\n"
   ]
  },
  {
   "cell_type": "markdown",
   "metadata": {
    "id": "FSw6OECd2mZU"
   },
   "source": [
    "Typecasting is a process of changing the data type of a value or object. This is necessary because while execution happens using operators, there might be some mismatching of data types.\n",
    "\n",
    "Typecasting are of two types :-\n",
    "\n",
    "1. Explicit - This is done by user.\n"
   ]
  },
  {
   "cell_type": "code",
   "execution_count": null,
   "metadata": {
    "id": "W1peiteI224k"
   },
   "outputs": [],
   "source": [
    "a = \"2\"\n",
    "b = 3\n",
    "print(int(a)+b) # Explicit Typecasting\n"
   ]
  },
  {
   "cell_type": "code",
   "execution_count": null,
   "metadata": {
    "id": "dPtT0uXL3S6K"
   },
   "outputs": [],
   "source": [
    "#string to integer\n",
    "a = \"2\"\n",
    "print(type(a))\n",
    "print(type(int(a)))"
   ]
  },
  {
   "cell_type": "code",
   "execution_count": null,
   "metadata": {
    "id": "JwzS-5KR3WES"
   },
   "outputs": [],
   "source": [
    "#float to integer\n",
    "a = 3.4\n",
    "type(a)"
   ]
  },
  {
   "cell_type": "code",
   "execution_count": null,
   "metadata": {
    "id": "hFX-6OPZ3W2y"
   },
   "outputs": [],
   "source": [
    "#integer to float\n",
    "a = 2\n",
    "type(a)"
   ]
  },
  {
   "cell_type": "code",
   "execution_count": null,
   "metadata": {
    "id": "8ICP1wi63Z8S"
   },
   "outputs": [],
   "source": [
    "#string to float\n",
    "a = \"2.3\"\n",
    "type(a)"
   ]
  },
  {
   "cell_type": "code",
   "execution_count": null,
   "metadata": {
    "id": "0ZTh5Djp3aVL"
   },
   "outputs": [],
   "source": [
    "a = \"Ajay\" #character cannot be converted into numbers\n",
    "type(a)"
   ]
  },
  {
   "cell_type": "markdown",
   "metadata": {
    "id": "DNigcpN032Iw"
   },
   "source": [
    "2. Implicit - This is done automatically by python.\n"
   ]
  },
  {
   "cell_type": "code",
   "execution_count": null,
   "metadata": {
    "id": "5X662lcq3hqj"
   },
   "outputs": [],
   "source": [
    "#implicit typecasting\n",
    "a = 5\n",
    "type(a)"
   ]
  },
  {
   "cell_type": "markdown",
   "metadata": {
    "id": "4-ue_uE3345Y"
   },
   "source": [
    "# Q.6 How do conditional statements work in Python? Illustrate with examples ?\n"
   ]
  },
  {
   "cell_type": "markdown",
   "metadata": {
    "id": "Ke6b7Zyl3_zR"
   },
   "source": [
    "Conditional Statements helps you to code decisions based on some conditions.\n",
    "\n",
    "Conditional Statements are of following types :-\n",
    "\n",
    "1. if - It checks that if the condition is true then particular block of code is executed.\n",
    "\n",
    "\n"
   ]
  },
  {
   "cell_type": "code",
   "execution_count": null,
   "metadata": {
    "id": "IQ_u3se_4nHl"
   },
   "outputs": [],
   "source": [
    "weather = \"rainy\"\n",
    "if weather == \"rainy\":\n",
    "  print(\"I will not play cricket\")"
   ]
  },
  {
   "cell_type": "markdown",
   "metadata": {
    "id": "35k4Y7k95ECj"
   },
   "source": [
    "2. if else - It checks that if the condition is true then particular block of code is executed otherwise else block is executed.\n",
    "\n",
    "\n"
   ]
  },
  {
   "cell_type": "code",
   "execution_count": null,
   "metadata": {
    "id": "UMDNRA7a42ll"
   },
   "outputs": [],
   "source": [
    "weather = \"Sunny\"\n",
    "if weather == \"Rainy\":\n",
    "  print(\"I will not play cricket\")\n",
    "else:\n",
    "  print(\"I will play cricket\")"
   ]
  },
  {
   "cell_type": "markdown",
   "metadata": {
    "id": "V1e9Xcwe5HV5"
   },
   "source": [
    "3. if elif else - It is used to check multiple condition in a program.\n"
   ]
  },
  {
   "cell_type": "code",
   "execution_count": null,
   "metadata": {
    "id": "mrdJlBhx426s"
   },
   "outputs": [],
   "source": [
    "a = 5\n",
    "b = 6\n",
    "c = 3\n",
    "if a > b and a > c:\n",
    "  print(\"A is Maximum\")\n",
    "elif b > c:\n",
    "  print(\"B is Maximum\")\n",
    "else:\n",
    "  print(\"C is Maximum\")"
   ]
  },
  {
   "cell_type": "markdown",
   "metadata": {
    "id": "jMyN0kAt5J3H"
   },
   "source": [
    "\n",
    "4. Nested if else - Condition inside another condition is called nested if else statement."
   ]
  },
  {
   "cell_type": "code",
   "execution_count": null,
   "metadata": {
    "id": "fW6_-fLX43He"
   },
   "outputs": [],
   "source": [
    "is_vip = True\n",
    "age  = 70\n",
    "if is_vip:\n",
    "  if age >= 18:\n",
    "    if age < 65:\n",
    "      print(\"You are a VIP Member\")\n",
    "    else:\n",
    "      print(\"You are a Senior Citizen and you are valueable for us\")\n",
    "  else:\n",
    "    print(\"Yor are under Age\")\n",
    "else:\n",
    "  print(\"You are not a VIP Member\")"
   ]
  },
  {
   "cell_type": "markdown",
   "metadata": {
    "id": "U3uvLrt55Qfs"
   },
   "source": [
    "# Q.7 Describe the different types of loops in Python and their use cases with examples ?\n",
    "\n"
   ]
  },
  {
   "cell_type": "markdown",
   "metadata": {
    "id": "v-IBWicI5TSt"
   },
   "source": [
    "1. while loop - It repeatedly executes a block of code until a condition is true.\n",
    "It is used when number of iterations is unknown.\n"
   ]
  },
  {
   "cell_type": "code",
   "execution_count": null,
   "metadata": {
    "id": "w7h14p0a5cHr"
   },
   "outputs": [],
   "source": [
    "n = 5\n",
    "i = 1\n",
    "while i < n:\n",
    "  print(i)\n",
    "  i = i + 1"
   ]
  },
  {
   "cell_type": "markdown",
   "metadata": {
    "id": "mjbMmOKW5mGv"
   },
   "source": [
    "2. for loop - It iterates over a sequence of elements.\n",
    "It is used when number of iterations is known.\n"
   ]
  },
  {
   "cell_type": "code",
   "execution_count": null,
   "metadata": {
    "id": "XBQLEHB15rm8"
   },
   "outputs": [],
   "source": [
    "a = \"Shayan\"\n",
    "for i in a:\n",
    "  print(i)"
   ]
  },
  {
   "cell_type": "markdown",
   "metadata": {
    "id": "xLX-KKJd5xoo"
   },
   "source": [
    "3. Nested Loop - Loops inside loops is called nested loops. Nested loops are used in pattern printing, 2-D arrays, matrix, or there when the concept of rows and columns comes"
   ]
  },
  {
   "cell_type": "code",
   "execution_count": null,
   "metadata": {
    "id": "F-Pnj2KL51x2"
   },
   "outputs": [],
   "source": [
    "# Simple Square Pattern\n",
    "row = 1\n",
    "while row <= 4:\n",
    "  col = 1\n",
    "  while col <= 4:\n",
    "    print(\"*\", end = \"\")\n",
    "    col = col + 1\n",
    "  print()\n",
    "  row = row + 1"
   ]
  }
 ],
 "metadata": {
  "colab": {
   "provenance": []
  },
  "kernelspec": {
   "display_name": "Python 3 (ipykernel)",
   "language": "python",
   "name": "python3"
  },
  "language_info": {
   "codemirror_mode": {
    "name": "ipython",
    "version": 3
   },
   "file_extension": ".py",
   "mimetype": "text/x-python",
   "name": "python",
   "nbconvert_exporter": "python",
   "pygments_lexer": "ipython3",
   "version": "3.12.7"
  }
 },
 "nbformat": 4,
 "nbformat_minor": 4
}
